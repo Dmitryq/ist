{
 "cells": [
  {
   "cell_type": "code",
   "execution_count": 46,
   "metadata": {},
   "outputs": [],
   "source": [
    "import numpy as np\n",
    "import matplotlib.pyplot as plt\n",
    "from collections import defaultdict\n",
    "import random"
   ]
  },
  {
   "cell_type": "markdown",
   "metadata": {},
   "source": [
    "# Определим будущие параметры\n",
    "___\n",
    " - `board_size` — размер доски (n x n)\n",
    " - `learning_rate` — коэффициент обучения\n",
    " - `discount_factor` — коэффициент обесценивания\n",
    " - `random_move_probability` — вероятность случайного хода\n",
    " - `num_episodes` — количество эпизодов для обучения"
   ]
  },
  {
   "cell_type": "code",
   "execution_count": 47,
   "metadata": {},
   "outputs": [],
   "source": [
    "# Настройки\n",
    "board_size = 3\n",
    "learning_rate = 0.05\n",
    "discount_factor = 0.9\n",
    "random_move_probability = 0.2  # вероятность случайного хода (exploration)\n",
    "num_episodes = 10000  # количество эпизодов для обучения"
   ]
  },
  {
   "cell_type": "markdown",
   "metadata": {},
   "source": [
    "# Функция создания поля\n",
    "Создаем поле по входным параметрам и заполняем его нулями\n",
    "___\n",
    "**параметры:** \n",
    " - `n` — размер поля (n x n)\n",
    "___\n",
    "*возвращает двумерный массив нулей размером n x n*"
   ]
  },
  {
   "cell_type": "code",
   "execution_count": 48,
   "metadata": {},
   "outputs": [],
   "source": [
    "# Создаем игровое поле\n",
    "def create_board(n):\n",
    "    return np.zeros((n, n), dtype=int)"
   ]
  },
  {
   "cell_type": "markdown",
   "metadata": {},
   "source": [
    "# Функция проверки на выигрыш\n",
    "Определяет, достиг ли один из игроков победы, или зафиксирована ничья\n",
    "___\n",
    "**параметры:**  \n",
    "- `board` — текущее состояние игрового поля, двумерный массив\n",
    "___\n",
    "*возвращает:*  \n",
    "- `1` — если победил первый игрок (крестики)  \n",
    "- `-1` — если победил второй игрок (нолики)  \n",
    "- `0` — если игра завершилась ничьей  \n",
    "- `None` — если игра продолжается"
   ]
  },
  {
   "cell_type": "code",
   "execution_count": 49,
   "metadata": {},
   "outputs": [],
   "source": [
    "\n",
    "# Проверка на выигрыш\n",
    "def check_winner(board):\n",
    "    for player in [1, -1]: # 1 - крестики, -1 - нолики\n",
    "        if any(np.all(line == player) for line in np.vstack((board, board.T, np.diag(board), np.diag(np.fliplr(board))))): # проверяем линию 3 в ряд\n",
    "            return player\n",
    "    if not np.any(board == 0): # если не осталось нулей\n",
    "          return 0  # ничья\n",
    "    return None  # игра продолжается"
   ]
  },
  {
   "cell_type": "markdown",
   "metadata": {},
   "source": [
    "# Функция выбора действия\n",
    "Выбирает действие агента: случайное (для исследования) или с наибольшим Q-значением (для использования опыта)\n",
    "___\n",
    "**параметры:**  \n",
    "- `state` — текущее состояние поля в виде кортежа  \n",
    "- `q_table` — Q-таблица, в которой хранится ценность каждого действия для каждого состояния  \n",
    "___\n",
    "*возвращает индекс выбранного действия (от 0 до 8 для поля 3x3)*"
   ]
  },
  {
   "cell_type": "code",
   "execution_count": null,
   "metadata": {},
   "outputs": [],
   "source": [
    "\n",
    "# Функция выбора действия\n",
    "def choose_action(state, q_table):\n",
    "    if random.uniform(0, 1) < random_move_probability: \n",
    "        return random.choice([i for i in range(9) if state[i] == 0]) # индекс выбранного действия (случайный)\n",
    "    else:\n",
    "        q_values = [q_table[(tuple(state), a)] for a in range(9)] # агент ставит крестик\\нолик в клетку с наибольшей ценностью\n",
    "        return int(np.argmax(q_values)) # индекс выбранного действия\n"
   ]
  },
  {
   "cell_type": "markdown",
   "metadata": {},
   "source": [
    "# Функция обновления Q-значений\n",
    "Обновляет Q-значение для состояния и действия с использованием временного разрыва (TD)  \n",
    "___\n",
    "**параметры:**  \n",
    "- `q_table` — Q-таблица для хранения ценностей действий  \n",
    "- `state` — текущее состояние поля (кортеж)  \n",
    "- `action` — выбранное действие (целое число, индекс ячейки)  \n",
    "- `reward` — награда за текущее действие  \n",
    "- `next_state` — следующее состояние поля после выполнения действия  \n",
    "___\n",
    "*ничего не возвращает, обновляет Q-значение для данного состояния и действия в q_table*"
   ]
  },
  {
   "cell_type": "code",
   "execution_count": 51,
   "metadata": {},
   "outputs": [],
   "source": [
    "\n",
    "# Обновление Q-значений\n",
    "def update_q_value(q_table, state, action, reward, next_state):\n",
    "    best_next_action = int(np.argmax([q_table[(tuple(next_state), a)] for a in range(9)])) # выбор наилучшего следующего действия на основе текущей доски\n",
    "    td_target = reward + discount_factor * q_table[(tuple(next_state), best_next_action)] # ожидаемое вознаграждение \n",
    "    td_delta = td_target - q_table[(tuple(state), action)] # разница между фактическим вознаграждением, которое агент получил, и тем, что он ожидал получить\n",
    "    q_table[(tuple(state), action)] += learning_rate * td_delta # обновление Q-значения для текущего состояния и действия\n",
    "\n"
   ]
  },
  {
   "cell_type": "markdown",
   "metadata": {},
   "source": [
    "# Функция преобразования игрового поля в состояние\n",
    "Преобразует двумерный массив игрового поля в одномерный кортеж состояния  \n",
    "___\n",
    "**параметры:**  \n",
    "- `board` — текущее состояние игрового поля, двумерный массив  \n",
    "___\n",
    "*возвращает текущее состояние в виде одномерного кортежа*"
   ]
  },
  {
   "cell_type": "code",
   "execution_count": 52,
   "metadata": {},
   "outputs": [],
   "source": [
    "# Преобразование игрового поля в строку состояния\n",
    "def get_state(board):\n",
    "    return tuple(board.flatten())\n"
   ]
  },
  {
   "cell_type": "markdown",
   "metadata": {},
   "source": [
    "# Цикл обучения агента для игры в \"крестики-нолики\" с использованием Q-обучения\n",
    "Агент многократно играет партии с целью улучшения стратегии.\n",
    "\n",
    "___\n",
    "- `q_table = defaultdict(float)` — инициализация Q-таблицы в виде словаря с автоматическим присвоением значения `0.0` для каждого нового состояния-действия. Q-таблица хранит ценности (Q-значения) для каждого действия в каждом состоянии.\n",
    "- `rewards = []` — пустой список для накопления наград по каждой партии.\n"
   ]
  },
  {
   "cell_type": "code",
   "execution_count": 53,
   "metadata": {},
   "outputs": [],
   "source": [
    "q_table = defaultdict(float) \n",
    "rewards = [] \n",
    "\n",
    "# цикл обучения\n",
    "for episode in range(num_episodes): # цикл обучения, в котором агент играет num_episodes партий\n",
    "    board = create_board(board_size) # создание пустого поля размером `board_size x board_size`\n",
    "    state = get_state(board) # получение текущего состояния поля в виде кортежа\n",
    "    total_reward = 0\n",
    "    while True:\n",
    "        # ход агента\n",
    "        action = choose_action(state, q_table) # выбор действия на основе ε-жадного метода (случайный или наилучший ход).\n",
    "        x, y = divmod(action, board_size) # преобразование линейного индекса действия в координаты x и y\n",
    "        \n",
    "        if board[x, y] != 0: # если ячейка занята, ход игнорируется (начинается новый цикл)\n",
    "            continue  # неправильный ход, игнорируем\n",
    "        \n",
    "        board[x, y] = 1  # агент ставит крестик\n",
    "        winner = check_winner(board) # проверка на победу\n",
    "        \n",
    "        if winner is not None: # игра закончилась\n",
    "            reward = 1 if winner == 1 else 0.5 if winner == 0 else 0 # награды агента в зависимости от статуса победы\n",
    "            update_q_value(q_table, state, action, reward, state) # обновление Q-значения для текущего состояния и действия\n",
    "            total_reward += reward # добавление награды за текущую партию\n",
    "            break\n",
    "        \n",
    "        # ход противника (случайный)\n",
    "        empty_cells = list(zip(*np.where(board == 0))) # определение списка пустых ячеек\n",
    "        if empty_cells: # если есть пустые ячейки\n",
    "            x, y = random.choice(empty_cells) # случайный выбор пустой ячейки для хода противника\n",
    "            board[x, y] = -1 # случайно ставим нолик\n",
    "            winner = check_winner(board) # проверка на победу\n",
    "            if winner is not None:\n",
    "                reward = 0 # если агент проиграл\n",
    "                update_q_value(q_table, state, action, reward, state) # обновление Q-значения\n",
    "                break # выход из цикла игры\n",
    "        \n",
    "        next_state = get_state(board) # получение нового состояния поля\n",
    "        update_q_value(q_table, state, action, 0, next_state) # обновление Q-значения для текущего действия без награды\n",
    "        state = next_state # переход к следующему состоянию\n",
    "    rewards.append(total_reward) # добавление итоговой награды за партию в список\n"
   ]
  },
  {
   "cell_type": "code",
   "execution_count": 54,
   "metadata": {},
   "outputs": [
    {
     "data": {
      "image/png": "[encoded data removed]",
      "text/plain": [
       "<Figure size 640x480 with 1 Axes>"
      ]
     },
     "metadata": {},
     "output_type": "display_data"
    }
   ],
   "source": [
    "# Построение графика зависимости награды от количества эпизодов\n",
    "plt.plot(np.convolve(rewards, np.ones(int(num_episodes / 10))/int(num_episodes / 10), mode='valid'))\n",
    "plt.xlabel('Эпизоды')\n",
    "plt.ylabel('Награда')\n",
    "plt.title('Зависимость награды от количества эпизодов')\n",
    "plt.show()"
   ]
  }
 ],
 "metadata": {
  "kernelspec": {
   "display_name": "Python 3",
   "language": "python",
   "name": "python3"
  },
  "language_info": {
   "codemirror_mode": {
    "name": "ipython",
    "version": 3
   },
   "file_extension": ".py",
   "mimetype": "text/x-python",
   "name": "python",
   "nbconvert_exporter": "python",
   "pygments_lexer": "ipython3",
   "version": "3.12.7"
  }
 },
 "nbformat": 4,
 "nbformat_minor": 2
}
