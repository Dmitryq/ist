{
  "cells": [
    {
      "cell_type": "code",
      "execution_count": 57,
      "metadata": {
        "id": "_5xxoFmC4Yah"
      },
      "outputs": [],
      "source": [
        "import numpy as np\n",
        "import random\n",
        "import matplotlib.pyplot as plt\n",
        "from matplotlib.colors import ListedColormap"
      ]
    },
    {
      "cell_type": "markdown",
      "metadata": {},
      "source": [
        "# Функция создания сетки\n",
        "Создаем сетку по входным параметрам в виде двумерного массива\n",
        "___\n",
        "**параметры:** \n",
        " - `n` — размер сетки (n x n)\n",
        " - `empty_ratio` — процентное соотношение пустых клеток\n",
        " - `blue_ratio` — процентное соотношение синих клеток\n",
        " - `red_ratio` — процентное соотношение красных клеток\n",
        "___\n",
        "*возвращает двумерный массив, где:*\n",
        " - 0 — пустая клетка\n",
        " - 1 — синяя клетка\n",
        " - 2 — красная клетка"
      ]
    },
    {
      "cell_type": "code",
      "execution_count": 58,
      "metadata": {
        "id": "kicqj9RF4gQL"
      },
      "outputs": [],
      "source": [
        "def initialize_grid(n, empty_ratio, blue_ratio, red_ratio):\n",
        "    num_cells = n * n\n",
        "    num_empty = int(empty_ratio * num_cells)\n",
        "    num_blue = int(blue_ratio * num_cells)\n",
        "    num_red = num_cells - num_empty - num_blue\n",
        "    grid = [0] * num_empty + [1] * num_blue + [2] * num_red\n",
        "    random.shuffle(grid)\n",
        "    return np.array(grid).reshape((n, n))"
      ]
    },
    {
      "cell_type": "markdown",
      "metadata": {},
      "source": [
        "# Функция подсчета соседей\n",
        "Считаем количество соседей клетки по координатам\n",
        "___\n",
        "**параметры:**\n",
        "-  `grid` — двумерный массив клеток\n",
        "-  `x` — координата x клетки\n",
        "-  `y` — координата y клетки\n",
        "___\n",
        "*возвращает количество соседей одного цвета*"
      ]
    },
    {
      "cell_type": "code",
      "execution_count": 59,
      "metadata": {
        "id": "k4elSZHM4h6Z"
      },
      "outputs": [],
      "source": [
        "def count_same_neighbors(grid, x, y):\n",
        "    n = grid.shape[0]\n",
        "    color = grid[x, y]\n",
        "    if color == 0:\n",
        "        return 0  # пустая клетка\n",
        "\n",
        "    # соседи\n",
        "    neighbors = [\n",
        "        (x - 1, y - 1), (x - 1, y), (x - 1, y + 1),\n",
        "        (x, y - 1),             (x, y + 1),\n",
        "        (x + 1, y - 1), (x + 1, y), (x + 1, y + 1)\n",
        "    ]\n",
        "\n",
        "    same_color_count = 0\n",
        "    for nx, ny in neighbors:\n",
        "        if 0 <= nx < n and 0 <= ny < n and grid[nx, ny] == color:\n",
        "            same_color_count += 1\n",
        "\n",
        "    return same_color_count"
      ]
    },
    {
      "cell_type": "markdown",
      "metadata": {},
      "source": [
        "\n",
        "# Функция проверки клетки\n",
        "Проверяем клетку на \"счастье\", возвращаем истину или ложь\n",
        "___\n",
        "**параметры:**\n",
        "-  `grid` — двумерный массив клеток\n",
        "-  `x` — координата x клетки\n",
        "-  `y` — координата y клетки\n",
        "- `threshold` — количество необходимых соседей \n",
        "___\n",
        "*возвращает True/False*"
      ]
    },
    {
      "cell_type": "code",
      "execution_count": 60,
      "metadata": {},
      "outputs": [],
      "source": [
        "def is_happy(grid, x, y, threshold):\n",
        "    return count_same_neighbors(grid, x, y) >= threshold"
      ]
    },
    {
      "cell_type": "markdown",
      "metadata": {},
      "source": [
        "# Функция поиска \"несчастных\" клеток\n",
        "Ищем \"несчастные\" клетки и возвращаем массив кортежей их координат\n",
        "___\n",
        "**параметры:**\n",
        "-  `grid` — двумерный массив клеток\n",
        "- `threshold` — количество необходимых соседей \n",
        "___\n",
        "*возвращает массив кортежей координат \"несчастных\" клеток*"
      ]
    },
    {
      "cell_type": "code",
      "execution_count": 61,
      "metadata": {},
      "outputs": [],
      "source": [
        "def get_unhappy_cells(grid, threshold):\n",
        "    unhappy_cells = []\n",
        "    for x in range(n):\n",
        "        for y in range(n):\n",
        "            if grid[x, y] != 0 and not is_happy(grid, x, y, threshold):\n",
        "                unhappy_cells.append((x, y))\n",
        "    return unhappy_cells\n"
      ]
    },
    {
      "cell_type": "markdown",
      "metadata": {},
      "source": [
        "# Функция поиска пустых клеток\n",
        "Ищем пустые клетки и возвращаем массив кортежей их координат\n",
        "___\n",
        "**параметры:**\n",
        "-  `grid` — двумерный массив клеток\n",
        "___\n",
        "*возвращает массив кортежей координат пустых клеток*"
      ]
    },
    {
      "cell_type": "code",
      "execution_count": 62,
      "metadata": {
        "id": "aXxxsOw24m2Q"
      },
      "outputs": [],
      "source": [
        "def get_empty_cells(grid):\n",
        "    empty_cells = []\n",
        "    for x in range(n):\n",
        "        for y in range(n):\n",
        "            if grid[x, y] == 0:\n",
        "                empty_cells.append((x, y))\n",
        "    return empty_cells"
      ]
    },
    {
      "cell_type": "markdown",
      "metadata": {},
      "source": [
        "# Функция перемещения \"несчастных\" клеток\n",
        "Перемещаем \"несчастные\" клетки в случайные пустые\n",
        "___\n",
        "**параметры:**\n",
        "- `grid` — двумерный массив клеток\n",
        "- `threshold` — количество необходимых соседей \n",
        "___\n",
        "*возвращает обновленную сетку, где \"несчастные\" клетки перемещены на новые позиции*"
      ]
    },
    {
      "cell_type": "code",
      "execution_count": 63,
      "metadata": {
        "id": "8Bi6a7C_4ord"
      },
      "outputs": [],
      "source": [
        "def move_unhappy_cells(grid, threshold):\n",
        "    unhappy_cells = get_unhappy_cells(grid, threshold)\n",
        "    empty_cells = get_empty_cells(grid)\n",
        "\n",
        "    if not unhappy_cells or not empty_cells:\n",
        "        return grid, True  # нет пустых или несчастных клеток\n",
        "    \n",
        "    for (x, y) in unhappy_cells:\n",
        "        new_x, new_y = random.choice(empty_cells) # случайная пустая клетка\n",
        "        grid[new_x, new_y] = grid[x, y] # перемещает несчастную клетку\n",
        "        grid[x, y] = 0  # обнуляем старую клетку\n",
        "        empty_cells.remove((new_x, new_y))  # удаляем кортеж с координатами пустой клетки\n",
        "        empty_cells.append((x, y))  # добавляем новый кортеж со старой позиции в качестве пустой\n",
        "\n",
        "    return grid, False"
      ]
    },
    {
      "cell_type": "code",
      "execution_count": 64,
      "metadata": {
        "id": "4PHuChdz4qUd"
      },
      "outputs": [],
      "source": [
        "from PIL import Image\n",
        "import os\n",
        "import re\n",
        "\n",
        "os.makedirs(\"frames\", exist_ok=True)\n",
        "\n",
        "\n",
        "def plot_grid(grid, step): # визуализация сетки\n",
        "    plt.figure(figsize=(6, 6))\n",
        "    plt.imshow(grid, cmap=ListedColormap(['white', 'blue', 'red']), vmin=0, vmax=2)\n",
        "    plt.title(f\"Step {step}\")\n",
        "    plt.colorbar(ticks=[0, 1, 2], label='Cell State')\n",
        "    filename = f\"./frames/plot_step_{step}.png\"\n",
        "    plt.savefig(filename)\n",
        "    plt.close()\n",
        "\n",
        "def images_to_gif(directory, gif_name=\"grid_simulation.gif\", duration=100):\n",
        "    def extract_step(filename):\n",
        "        match = re.search(r\"plot_step_(\\d+).png\", filename)\n",
        "        return int(match.group(1)) if match else float('inf')\n",
        "    \n",
        "    image_files = sorted(\n",
        "        [os.path.join(directory, file) for file in os.listdir(directory) if file.endswith(\".png\")],\n",
        "        key=extract_step\n",
        "    )\n",
        "    \n",
        "    frames = [Image.open(image) for image in image_files]\n",
        "    if frames:\n",
        "        frames[0].save(\n",
        "            os.path.join(directory, gif_name),\n",
        "            save_all=True,\n",
        "            append_images=frames[1:],\n",
        "            duration=duration,\n",
        "            loop=0\n",
        "        )\n",
        "    else:\n",
        "        print(\"No images found in the directory to create a GIF.\")\n"
      ]
    },
    {
      "cell_type": "code",
      "execution_count": 65,
      "metadata": {
        "id": "S9ToQgzL4rdk"
      },
      "outputs": [],
      "source": [
        "def simulate_segregation(grid, steps, threshold): # цикл для симуляции\n",
        "    plot_grid(grid, 0)\n",
        "    for step in range(1, steps+1):\n",
        "        grid, stop = move_unhappy_cells(grid, threshold)\n",
        "        plot_grid(grid, step)\n",
        "        if stop:\n",
        "          break"
      ]
    },
    {
      "cell_type": "code",
      "execution_count": 66,
      "metadata": {
        "id": "V05-NOkE4eDf"
      },
      "outputs": [],
      "source": [
        "n = 40 # размер сетки (n x n)\n",
        "empty_ratio = 0.30 # процентное соотношение пустых клеток\n",
        "blue_ratio = 0.35 # процентное соотношение синих клеток\n",
        "red_ratio = 0.35 # процентное соотношение красных клеток\n",
        "threshold = 4 # количество необходимых соседей\n",
        "steps = 100 # количество шагов моделирования"
      ]
    },
    {
      "cell_type": "code",
      "execution_count": 67,
      "metadata": {
        "colab": {
          "base_uri": "https://localhost:8080/",
          "height": 1000
        },
        "id": "I7K2QOsTw41w",
        "outputId": "8a539897-3bc4-41d0-f2c7-5f1433e46b01"
      },
      "outputs": [],
      "source": [
        "grid = initialize_grid(n, empty_ratio, blue_ratio, red_ratio)\n",
        "simulate_segregation(grid, steps, threshold)\n",
        "images_to_gif(\"frames\", gif_name=\"grid_simulation.gif\", duration=200)"
      ]
    },
    {
      "cell_type": "markdown",
      "metadata": {},
      "source": [
        "# Итоговый результат\n",
        "\n",
        "![SegmentLocal](frames/191px-grid_simulation.gif \"segment\")\n"
      ]
    }
  ],
  "metadata": {
    "colab": {
      "provenance": []
    },
    "kernelspec": {
      "display_name": "Python 3",
      "name": "python3"
    },
    "language_info": {
      "codemirror_mode": {
        "name": "ipython",
        "version": 3
      },
      "file_extension": ".py",
      "mimetype": "text/x-python",
      "name": "python",
      "nbconvert_exporter": "python",
      "pygments_lexer": "ipython3",
      "version": "3.12.7"
    }
  },
  "nbformat": 4,
  "nbformat_minor": 0
}
